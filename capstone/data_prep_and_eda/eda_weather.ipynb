{
 "cells": [
  {
   "cell_type": "markdown",
   "metadata": {
    "editable": true
   },
   "source": [
    "### EDA on World Temperature Data\n",
    "- month: month\n",
    "- day: day\n",
    "- city: city\n",
    "- state: state\n",
    "- state_code: US state code\n",
    "- city_state_code: a combined field that is consist of city and US state code\n",
    "- avg_temperature: daily average temperature across each US city area"
   ]
  },
  {
   "cell_type": "code",
   "execution_count": 1,
   "metadata": {
    "editable": true
   },
   "outputs": [],
   "source": [
    "import os\n",
    "import datetime\n",
    "import pandas as pd\n",
    "pd.set_option('display.max_columns', 50)\n",
    "pd.set_option('display.max_colwidth', 1028)\n",
    "import configparser\n",
    "\n",
    "import boto3\n",
    "\n",
    "from pyspark.sql import SparkSession\n",
    "import pyspark.sql.functions as F\n",
    "from pyspark.sql.types import StructType, StructField, DoubleType, StringType, IntegerType, DateType, LongType, MapType"
   ]
  },
  {
   "cell_type": "code",
   "execution_count": 2,
   "metadata": {
    "editable": true
   },
   "outputs": [
    {
     "data": {
      "text/plain": [
       "['/home/workspace/capstone.cfg']"
      ]
     },
     "execution_count": 2,
     "metadata": {},
     "output_type": "execute_result"
    }
   ],
   "source": [
    "# config = configparser.ConfigParser()\n",
    "# config.read('/home/workspace/capstone.cfg')"
   ]
  },
  {
   "cell_type": "code",
   "execution_count": 3,
   "metadata": {
    "editable": true
   },
   "outputs": [],
   "source": [
    "# os.environ[\"AWS_ACCESS_KEY_ID\"] = config['AWS']['AWS_ACCESS_KEY_ID']\n",
    "# os.environ[\"AWS_SECRET_ACCESS_KEY\"] = config['AWS']['AWS_SECRET_ACCESS_KEY']\n",
    "# input_data_dir = config['S3']['INPUT_S3_BUCKET']"
   ]
  },
  {
   "cell_type": "code",
   "execution_count": 4,
   "metadata": {
    "editable": true
   },
   "outputs": [],
   "source": [
    "# Init a SparkSession object\n",
    "spark = SparkSession \\\n",
    "    .builder \\\n",
    "    .config('spark.jars.packages', 'org.apache.hadoop:hadoop-aws:2.7.0') \\\n",
    "    .getOrCreate()"
   ]
  },
  {
   "cell_type": "code",
   "execution_count": 5,
   "metadata": {
    "editable": true
   },
   "outputs": [],
   "source": [
    "world_temperature_spark_df =spark.read \\\n",
    "    .format('csv') \\\n",
    "    .options(header='true', inferSchema='true', encoding=\"ISO-8859-1\") \\\n",
    "    .load(f'{input_data_dir}/GlobalLandTemperaturesByCity.csv')"
   ]
  },
  {
   "cell_type": "code",
   "execution_count": 6,
   "metadata": {
    "editable": true
   },
   "outputs": [
    {
     "name": "stdout",
     "output_type": "stream",
     "text": [
      "root\n",
      " |-- dt: timestamp (nullable = true)\n",
      " |-- AverageTemperature: double (nullable = true)\n",
      " |-- AverageTemperatureUncertainty: double (nullable = true)\n",
      " |-- City: string (nullable = true)\n",
      " |-- Country: string (nullable = true)\n",
      " |-- Latitude: string (nullable = true)\n",
      " |-- Longitude: string (nullable = true)\n",
      "\n"
     ]
    }
   ],
   "source": [
    "# world_temperature_spark_df.printSchema()"
   ]
  },
  {
   "cell_type": "code",
   "execution_count": 7,
   "metadata": {
    "editable": true
   },
   "outputs": [
    {
     "name": "stdout",
     "output_type": "stream",
     "text": [
      "+-------------------+-------------------+\n",
      "|            max(dt)|            min(dt)|\n",
      "+-------------------+-------------------+\n",
      "|2013-09-01 00:00:00|1743-11-01 00:00:00|\n",
      "+-------------------+-------------------+\n",
      "\n"
     ]
    }
   ],
   "source": [
    "# world_temperature_spark_df.agg(F.max('dt'),F.min('dt')).show()"
   ]
  },
  {
   "cell_type": "code",
   "execution_count": 8,
   "metadata": {
    "editable": true
   },
   "outputs": [
    {
     "data": {
      "text/html": [
       "<div>\n",
       "<style scoped>\n",
       "    .dataframe tbody tr th:only-of-type {\n",
       "        vertical-align: middle;\n",
       "    }\n",
       "\n",
       "    .dataframe tbody tr th {\n",
       "        vertical-align: top;\n",
       "    }\n",
       "\n",
       "    .dataframe thead th {\n",
       "        text-align: right;\n",
       "    }\n",
       "</style>\n",
       "<table border=\"1\" class=\"dataframe\">\n",
       "  <thead>\n",
       "    <tr style=\"text-align: right;\">\n",
       "      <th></th>\n",
       "      <th>dt</th>\n",
       "      <th>AverageTemperature</th>\n",
       "      <th>AverageTemperatureUncertainty</th>\n",
       "      <th>City</th>\n",
       "      <th>Country</th>\n",
       "      <th>Latitude</th>\n",
       "      <th>Longitude</th>\n",
       "    </tr>\n",
       "  </thead>\n",
       "  <tbody>\n",
       "    <tr>\n",
       "      <th>0</th>\n",
       "      <td>1743-11-01</td>\n",
       "      <td>6.068</td>\n",
       "      <td>1.737</td>\n",
       "      <td>Ã",
       "rhus</td>\n",
       "      <td>Denmark</td>\n",
       "      <td>57.05N</td>\n",
       "      <td>10.33E</td>\n",
       "    </tr>\n",
       "    <tr>\n",
       "      <th>1</th>\n",
       "      <td>1743-12-01</td>\n",
       "      <td>NaN</td>\n",
       "      <td>NaN</td>\n",
       "      <td>Ã",
       "rhus</td>\n",
       "      <td>Denmark</td>\n",
       "      <td>57.05N</td>\n",
       "      <td>10.33E</td>\n",
       "    </tr>\n",
       "  </tbody>\n",
       "</table>\n",
       "</div>"
      ],
      "text/plain": [
       "          dt  AverageTemperature  AverageTemperatureUncertainty    City  \\\n",
       "0 1743-11-01               6.068                          1.737  Ã\n",
       "rhus   \n",
       "1 1743-12-01                 NaN                            NaN  Ã\n",
       "rhus   \n",
       "\n",
       "   Country Latitude Longitude  \n",
       "0  Denmark   57.05N    10.33E  \n",
       "1  Denmark   57.05N    10.33E  "
      ]
     },
     "execution_count": 8,
     "metadata": {},
     "output_type": "execute_result"
    }
   ],
   "source": [
    "# world_temperature_spark_df.limit(2).toPandas()"
   ]
  },
  {
   "cell_type": "code",
   "execution_count": 9,
   "metadata": {
    "editable": true
   },
   "outputs": [],
   "source": [
    "world_temperature_spark_df = world_temperature_spark_df.filter(F.col('dt') >= datetime.datetime(2000,1,1))"
   ]
  },
  {
   "cell_type": "code",
   "execution_count": 10,
   "metadata": {
    "editable": true
   },
   "outputs": [],
   "source": [
    "world_temperature_spark_df = world_temperature_spark_df \\\n",
    "    .withColumn('month', F.month(F.col('dt'))) \\\n",
    "    .withColumn('day', F.dayofmonth(F.col('dt'))) \\\n",
    "    .drop(F.col('dt'))"
   ]
  },
  {
   "cell_type": "code",
   "execution_count": 11,
   "metadata": {
    "editable": true
   },
   "outputs": [
    {
     "data": {
      "text/html": [
       "<div>\n",
       "<style scoped>\n",
       "    .dataframe tbody tr th:only-of-type {\n",
       "        vertical-align: middle;\n",
       "    }\n",
       "\n",
       "    .dataframe tbody tr th {\n",
       "        vertical-align: top;\n",
       "    }\n",
       "\n",
       "    .dataframe thead th {\n",
       "        text-align: right;\n",
       "    }\n",
       "</style>\n",
       "<table border=\"1\" class=\"dataframe\">\n",
       "  <thead>\n",
       "    <tr style=\"text-align: right;\">\n",
       "      <th></th>\n",
       "      <th>AverageTemperature</th>\n",
       "      <th>AverageTemperatureUncertainty</th>\n",
       "      <th>City</th>\n",
       "      <th>Country</th>\n",
       "      <th>Latitude</th>\n",
       "      <th>Longitude</th>\n",
       "      <th>month</th>\n",
       "      <th>day</th>\n",
       "    </tr>\n",
       "  </thead>\n",
       "  <tbody>\n",
       "    <tr>\n",
       "      <th>0</th>\n",
       "      <td>3.065</td>\n",
       "      <td>0.372</td>\n",
       "      <td>Ã",
       "rhus</td>\n",
       "      <td>Denmark</td>\n",
       "      <td>57.05N</td>\n",
       "      <td>10.33E</td>\n",
       "      <td>1</td>\n",
       "      <td>1</td>\n",
       "    </tr>\n",
       "    <tr>\n",
       "      <th>1</th>\n",
       "      <td>3.724</td>\n",
       "      <td>0.241</td>\n",
       "      <td>Ã",
       "rhus</td>\n",
       "      <td>Denmark</td>\n",
       "      <td>57.05N</td>\n",
       "      <td>10.33E</td>\n",
       "      <td>2</td>\n",
       "      <td>1</td>\n",
       "    </tr>\n",
       "  </tbody>\n",
       "</table>\n",
       "</div>"
      ],
      "text/plain": [
       "   AverageTemperature  AverageTemperatureUncertainty    City  Country  \\\n",
       "0               3.065                          0.372  Ã\n",
       "rhus  Denmark   \n",
       "1               3.724                          0.241  Ã\n",
       "rhus  Denmark   \n",
       "\n",
       "  Latitude Longitude  month  day  \n",
       "0   57.05N    10.33E      1    1  \n",
       "1   57.05N    10.33E      2    1  "
      ]
     },
     "execution_count": 11,
     "metadata": {},
     "output_type": "execute_result"
    }
   ],
   "source": [
    "# world_temperature_spark_df.limit(2).toPandas()"
   ]
  },
  {
   "cell_type": "code",
   "execution_count": 12,
   "metadata": {
    "editable": true
   },
   "outputs": [],
   "source": [
    "avg_world_temperature_spark_df = world_temperature_spark_df \\\n",
    "    .groupBy(['month', 'day', 'City', 'Country', 'Latitude', 'Longitude']) \\\n",
    "    .agg(F.mean('AverageTemperature')) \\\n",
    "    .withColumnRenamed('avg(AverageTemperature)', 'AverageTemperature') \\\n",
    "    .withColumn('month', F.col('month').cast('integer')) \\\n",
    "    .withColumn('day', F.col('day').cast('integer'))"
   ]
  },
  {
   "cell_type": "code",
   "execution_count": 13,
   "metadata": {
    "editable": true
   },
   "outputs": [
    {
     "data": {
      "text/html": [
       "<div>\n",
       "<style scoped>\n",
       "    .dataframe tbody tr th:only-of-type {\n",
       "        vertical-align: middle;\n",
       "    }\n",
       "\n",
       "    .dataframe tbody tr th {\n",
       "        vertical-align: top;\n",
       "    }\n",
       "\n",
       "    .dataframe thead th {\n",
       "        text-align: right;\n",
       "    }\n",
       "</style>\n",
       "<table border=\"1\" class=\"dataframe\">\n",
       "  <thead>\n",
       "    <tr style=\"text-align: right;\">\n",
       "      <th></th>\n",
       "      <th>month</th>\n",
       "      <th>day</th>\n",
       "      <th>City</th>\n",
       "      <th>Country</th>\n",
       "      <th>Latitude</th>\n",
       "      <th>Longitude</th>\n",
       "      <th>AverageTemperature</th>\n",
       "    </tr>\n",
       "  </thead>\n",
       "  <tbody>\n",
       "    <tr>\n",
       "      <th>0</th>\n",
       "      <td>5</td>\n",
       "      <td>1</td>\n",
       "      <td>Adilabad</td>\n",
       "      <td>India</td>\n",
       "      <td>20.09N</td>\n",
       "      <td>78.48E</td>\n",
       "      <td>35.639643</td>\n",
       "    </tr>\n",
       "    <tr>\n",
       "      <th>1</th>\n",
       "      <td>9</td>\n",
       "      <td>1</td>\n",
       "      <td>Agadir</td>\n",
       "      <td>Morocco</td>\n",
       "      <td>29.74N</td>\n",
       "      <td>9.23W</td>\n",
       "      <td>22.426692</td>\n",
       "    </tr>\n",
       "  </tbody>\n",
       "</table>\n",
       "</div>"
      ],
      "text/plain": [
       "   month  day      City  Country Latitude Longitude  AverageTemperature\n",
       "0      5    1  Adilabad    India   20.09N    78.48E           35.639643\n",
       "1      9    1    Agadir  Morocco   29.74N     9.23W           22.426692"
      ]
     },
     "execution_count": 13,
     "metadata": {},
     "output_type": "execute_result"
    }
   ],
   "source": [
    "# avg_world_temperature_spark_df.limit(2).toPandas()"
   ]
  },
  {
   "cell_type": "code",
   "execution_count": 14,
   "metadata": {
    "editable": true
   },
   "outputs": [],
   "source": [
    "#  avg_world_temperature_spark_df = avg_world_temperature_spark_df \\\n",
    "#         .select('Country', 'City','month','day', 'Latitude','Longitude', 'AverageTemperature')\\\n",
    "#         .sort(F.col('Country'), F.col('City'), F.col('month'))"
   ]
  },
  {
   "cell_type": "code",
   "execution_count": 15,
   "metadata": {
    "editable": true
   },
   "outputs": [
    {
     "data": {
      "text/html": [
       "<div>\n",
       "<style scoped>\n",
       "    .dataframe tbody tr th:only-of-type {\n",
       "        vertical-align: middle;\n",
       "    }\n",
       "\n",
       "    .dataframe tbody tr th {\n",
       "        vertical-align: top;\n",
       "    }\n",
       "\n",
       "    .dataframe thead th {\n",
       "        text-align: right;\n",
       "    }\n",
       "</style>\n",
       "<table border=\"1\" class=\"dataframe\">\n",
       "  <thead>\n",
       "    <tr style=\"text-align: right;\">\n",
       "      <th></th>\n",
       "      <th>Country</th>\n",
       "      <th>City</th>\n",
       "      <th>month</th>\n",
       "      <th>day</th>\n",
       "      <th>Latitude</th>\n",
       "      <th>Longitude</th>\n",
       "      <th>AverageTemperature</th>\n",
       "    </tr>\n",
       "  </thead>\n",
       "  <tbody>\n",
       "    <tr>\n",
       "      <th>0</th>\n",
       "      <td>Afghanistan</td>\n",
       "      <td>Baglan</td>\n",
       "      <td>1</td>\n",
       "      <td>1</td>\n",
       "      <td>36.17N</td>\n",
       "      <td>69.61E</td>\n",
       "      <td>-1.910500</td>\n",
       "    </tr>\n",
       "    <tr>\n",
       "      <th>1</th>\n",
       "      <td>Afghanistan</td>\n",
       "      <td>Baglan</td>\n",
       "      <td>2</td>\n",
       "      <td>1</td>\n",
       "      <td>36.17N</td>\n",
       "      <td>69.61E</td>\n",
       "      <td>0.461214</td>\n",
       "    </tr>\n",
       "    <tr>\n",
       "      <th>2</th>\n",
       "      <td>Afghanistan</td>\n",
       "      <td>Baglan</td>\n",
       "      <td>3</td>\n",
       "      <td>1</td>\n",
       "      <td>36.17N</td>\n",
       "      <td>69.61E</td>\n",
       "      <td>6.821286</td>\n",
       "    </tr>\n",
       "    <tr>\n",
       "      <th>3</th>\n",
       "      <td>Afghanistan</td>\n",
       "      <td>Baglan</td>\n",
       "      <td>4</td>\n",
       "      <td>1</td>\n",
       "      <td>36.17N</td>\n",
       "      <td>69.61E</td>\n",
       "      <td>12.450000</td>\n",
       "    </tr>\n",
       "    <tr>\n",
       "      <th>4</th>\n",
       "      <td>Afghanistan</td>\n",
       "      <td>Baglan</td>\n",
       "      <td>5</td>\n",
       "      <td>1</td>\n",
       "      <td>36.17N</td>\n",
       "      <td>69.61E</td>\n",
       "      <td>18.218000</td>\n",
       "    </tr>\n",
       "    <tr>\n",
       "      <th>5</th>\n",
       "      <td>Afghanistan</td>\n",
       "      <td>Baglan</td>\n",
       "      <td>6</td>\n",
       "      <td>1</td>\n",
       "      <td>36.17N</td>\n",
       "      <td>69.61E</td>\n",
       "      <td>22.840500</td>\n",
       "    </tr>\n",
       "    <tr>\n",
       "      <th>6</th>\n",
       "      <td>Afghanistan</td>\n",
       "      <td>Baglan</td>\n",
       "      <td>7</td>\n",
       "      <td>1</td>\n",
       "      <td>36.17N</td>\n",
       "      <td>69.61E</td>\n",
       "      <td>24.817571</td>\n",
       "    </tr>\n",
       "    <tr>\n",
       "      <th>7</th>\n",
       "      <td>Afghanistan</td>\n",
       "      <td>Baglan</td>\n",
       "      <td>8</td>\n",
       "      <td>1</td>\n",
       "      <td>36.17N</td>\n",
       "      <td>69.61E</td>\n",
       "      <td>23.532214</td>\n",
       "    </tr>\n",
       "    <tr>\n",
       "      <th>8</th>\n",
       "      <td>Afghanistan</td>\n",
       "      <td>Baglan</td>\n",
       "      <td>9</td>\n",
       "      <td>1</td>\n",
       "      <td>36.17N</td>\n",
       "      <td>69.61E</td>\n",
       "      <td>18.804846</td>\n",
       "    </tr>\n",
       "    <tr>\n",
       "      <th>9</th>\n",
       "      <td>Afghanistan</td>\n",
       "      <td>Baglan</td>\n",
       "      <td>10</td>\n",
       "      <td>1</td>\n",
       "      <td>36.17N</td>\n",
       "      <td>69.61E</td>\n",
       "      <td>12.479462</td>\n",
       "    </tr>\n",
       "    <tr>\n",
       "      <th>10</th>\n",
       "      <td>Afghanistan</td>\n",
       "      <td>Baglan</td>\n",
       "      <td>11</td>\n",
       "      <td>1</td>\n",
       "      <td>36.17N</td>\n",
       "      <td>69.61E</td>\n",
       "      <td>5.754385</td>\n",
       "    </tr>\n",
       "    <tr>\n",
       "      <th>11</th>\n",
       "      <td>Afghanistan</td>\n",
       "      <td>Baglan</td>\n",
       "      <td>12</td>\n",
       "      <td>1</td>\n",
       "      <td>36.17N</td>\n",
       "      <td>69.61E</td>\n",
       "      <td>-0.174769</td>\n",
       "    </tr>\n",
       "    <tr>\n",
       "      <th>12</th>\n",
       "      <td>Afghanistan</td>\n",
       "      <td>Gardez</td>\n",
       "      <td>1</td>\n",
       "      <td>1</td>\n",
       "      <td>32.95N</td>\n",
       "      <td>69.89E</td>\n",
       "      <td>5.770857</td>\n",
       "    </tr>\n",
       "    <tr>\n",
       "      <th>13</th>\n",
       "      <td>Afghanistan</td>\n",
       "      <td>Gardez</td>\n",
       "      <td>2</td>\n",
       "      <td>1</td>\n",
       "      <td>32.95N</td>\n",
       "      <td>69.89E</td>\n",
       "      <td>7.803500</td>\n",
       "    </tr>\n",
       "    <tr>\n",
       "      <th>14</th>\n",
       "      <td>Afghanistan</td>\n",
       "      <td>Gardez</td>\n",
       "      <td>3</td>\n",
       "      <td>1</td>\n",
       "      <td>32.95N</td>\n",
       "      <td>69.89E</td>\n",
       "      <td>13.905643</td>\n",
       "    </tr>\n",
       "    <tr>\n",
       "      <th>15</th>\n",
       "      <td>Afghanistan</td>\n",
       "      <td>Gardez</td>\n",
       "      <td>4</td>\n",
       "      <td>1</td>\n",
       "      <td>32.95N</td>\n",
       "      <td>69.89E</td>\n",
       "      <td>19.464857</td>\n",
       "    </tr>\n",
       "    <tr>\n",
       "      <th>16</th>\n",
       "      <td>Afghanistan</td>\n",
       "      <td>Gardez</td>\n",
       "      <td>5</td>\n",
       "      <td>1</td>\n",
       "      <td>32.95N</td>\n",
       "      <td>69.89E</td>\n",
       "      <td>25.337857</td>\n",
       "    </tr>\n",
       "    <tr>\n",
       "      <th>17</th>\n",
       "      <td>Afghanistan</td>\n",
       "      <td>Gardez</td>\n",
       "      <td>6</td>\n",
       "      <td>1</td>\n",
       "      <td>32.95N</td>\n",
       "      <td>69.89E</td>\n",
       "      <td>27.834071</td>\n",
       "    </tr>\n",
       "    <tr>\n",
       "      <th>18</th>\n",
       "      <td>Afghanistan</td>\n",
       "      <td>Gardez</td>\n",
       "      <td>7</td>\n",
       "      <td>1</td>\n",
       "      <td>32.95N</td>\n",
       "      <td>69.89E</td>\n",
       "      <td>28.155429</td>\n",
       "    </tr>\n",
       "    <tr>\n",
       "      <th>19</th>\n",
       "      <td>Afghanistan</td>\n",
       "      <td>Gardez</td>\n",
       "      <td>8</td>\n",
       "      <td>1</td>\n",
       "      <td>32.95N</td>\n",
       "      <td>69.89E</td>\n",
       "      <td>26.998786</td>\n",
       "    </tr>\n",
       "    <tr>\n",
       "      <th>20</th>\n",
       "      <td>Afghanistan</td>\n",
       "      <td>Gardez</td>\n",
       "      <td>9</td>\n",
       "      <td>1</td>\n",
       "      <td>32.95N</td>\n",
       "      <td>69.89E</td>\n",
       "      <td>24.265077</td>\n",
       "    </tr>\n",
       "    <tr>\n",
       "      <th>21</th>\n",
       "      <td>Afghanistan</td>\n",
       "      <td>Gardez</td>\n",
       "      <td>10</td>\n",
       "      <td>1</td>\n",
       "      <td>32.95N</td>\n",
       "      <td>69.89E</td>\n",
       "      <td>19.228615</td>\n",
       "    </tr>\n",
       "    <tr>\n",
       "      <th>22</th>\n",
       "      <td>Afghanistan</td>\n",
       "      <td>Gardez</td>\n",
       "      <td>11</td>\n",
       "      <td>1</td>\n",
       "      <td>32.95N</td>\n",
       "      <td>69.89E</td>\n",
       "      <td>13.202077</td>\n",
       "    </tr>\n",
       "    <tr>\n",
       "      <th>23</th>\n",
       "      <td>Afghanistan</td>\n",
       "      <td>Gardez</td>\n",
       "      <td>12</td>\n",
       "      <td>1</td>\n",
       "      <td>32.95N</td>\n",
       "      <td>69.89E</td>\n",
       "      <td>7.931846</td>\n",
       "    </tr>\n",
       "    <tr>\n",
       "      <th>24</th>\n",
       "      <td>Afghanistan</td>\n",
       "      <td>Gazni</td>\n",
       "      <td>1</td>\n",
       "      <td>1</td>\n",
       "      <td>32.95N</td>\n",
       "      <td>67.98E</td>\n",
       "      <td>-2.705000</td>\n",
       "    </tr>\n",
       "  </tbody>\n",
       "</table>\n",
       "</div>"
      ],
      "text/plain": [
       "        Country    City  month  day Latitude Longitude  AverageTemperature\n",
       "0   Afghanistan  Baglan      1    1   36.17N    69.61E           -1.910500\n",
       "1   Afghanistan  Baglan      2    1   36.17N    69.61E            0.461214\n",
       "2   Afghanistan  Baglan      3    1   36.17N    69.61E            6.821286\n",
       "3   Afghanistan  Baglan      4    1   36.17N    69.61E           12.450000\n",
       "4   Afghanistan  Baglan      5    1   36.17N    69.61E           18.218000\n",
       "5   Afghanistan  Baglan      6    1   36.17N    69.61E           22.840500\n",
       "6   Afghanistan  Baglan      7    1   36.17N    69.61E           24.817571\n",
       "7   Afghanistan  Baglan      8    1   36.17N    69.61E           23.532214\n",
       "8   Afghanistan  Baglan      9    1   36.17N    69.61E           18.804846\n",
       "9   Afghanistan  Baglan     10    1   36.17N    69.61E           12.479462\n",
       "10  Afghanistan  Baglan     11    1   36.17N    69.61E            5.754385\n",
       "11  Afghanistan  Baglan     12    1   36.17N    69.61E           -0.174769\n",
       "12  Afghanistan  Gardez      1    1   32.95N    69.89E            5.770857\n",
       "13  Afghanistan  Gardez      2    1   32.95N    69.89E            7.803500\n",
       "14  Afghanistan  Gardez      3    1   32.95N    69.89E           13.905643\n",
       "15  Afghanistan  Gardez      4    1   32.95N    69.89E           19.464857\n",
       "16  Afghanistan  Gardez      5    1   32.95N    69.89E           25.337857\n",
       "17  Afghanistan  Gardez      6    1   32.95N    69.89E           27.834071\n",
       "18  Afghanistan  Gardez      7    1   32.95N    69.89E           28.155429\n",
       "19  Afghanistan  Gardez      8    1   32.95N    69.89E           26.998786\n",
       "20  Afghanistan  Gardez      9    1   32.95N    69.89E           24.265077\n",
       "21  Afghanistan  Gardez     10    1   32.95N    69.89E           19.228615\n",
       "22  Afghanistan  Gardez     11    1   32.95N    69.89E           13.202077\n",
       "23  Afghanistan  Gardez     12    1   32.95N    69.89E            7.931846\n",
       "24  Afghanistan   Gazni      1    1   32.95N    67.98E           -2.705000"
      ]
     },
     "execution_count": 15,
     "metadata": {},
     "output_type": "execute_result"
    }
   ],
   "source": [
    "# avg_world_temperature_spark_df.limit(25).toPandas()"
   ]
  },
  {
   "cell_type": "code",
   "execution_count": 16,
   "metadata": {
    "editable": true
   },
   "outputs": [],
   "source": [
    "spark.stop()"
   ]
  }
 ],
 "metadata": {
  "kernelspec": {
   "display_name": "Python 3",
   "language": "python",
   "name": "python3"
  },
  "language_info": {
   "codemirror_mode": {
    "name": "ipython",
    "version": 3
   },
   "file_extension": ".py",
   "mimetype": "text/x-python",
   "name": "python",
   "nbconvert_exporter": "python",
   "pygments_lexer": "ipython3",
   "version": "3.6.3"
  }
 },
 "nbformat": 4,
 "nbformat_minor": 4
}
